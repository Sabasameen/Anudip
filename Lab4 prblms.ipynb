{
 "cells": [
  {
   "cell_type": "markdown",
   "id": "0fddf511-e985-40bc-956d-12956a7e6a4f",
   "metadata": {},
   "source": [
    "### 1. Write a python program to reverse a number using a while loop. \n"
   ]
  },
  {
   "cell_type": "code",
   "execution_count": 2,
   "id": "bb74500b-4dd2-4e48-acf5-0f44e3b697c1",
   "metadata": {},
   "outputs": [
    {
     "name": "stdin",
     "output_type": "stream",
     "text": [
      "Enter a number:  1234\n"
     ]
    },
    {
     "name": "stdout",
     "output_type": "stream",
     "text": [
      "Reversed number: 4\n",
      "Reversed number: 43\n",
      "Reversed number: 432\n",
      "Reversed number: 4321\n"
     ]
    }
   ],
   "source": [
    "num = int(input(\"Enter a number: \"))\n",
    "reverse_num = 0\n",
    "remainder = 0\n",
    "while num != 0:\n",
    "    remainder = num % 10\n",
    "    reverse_num = reverse_num * 10 + remainder\n",
    "    num = num // 10\n",
    "    print(\"Reversed number:\", reverse_num)"
   ]
  },
  {
   "cell_type": "markdown",
   "id": "f74171b6-7ebd-4986-a839-a2e5094332a2",
   "metadata": {},
   "source": [
    "### 2. Write a python program to check whether a number is palindrome or not? \n"
   ]
  },
  {
   "cell_type": "code",
   "execution_count": 14,
   "id": "055cf917-6dcc-4fd5-99d9-cc0cb26a8535",
   "metadata": {},
   "outputs": [
    {
     "name": "stdin",
     "output_type": "stream",
     "text": [
      "Enter a number:  0\n"
     ]
    },
    {
     "name": "stdout",
     "output_type": "stream",
     "text": [
      "0 is a palindrome.\n"
     ]
    }
   ],
   "source": [
    "num = int(input(\"Enter a number: \"))\n",
    "reverse_num = 0\n",
    "original_num = num\n",
    "while num != 0:\n",
    "    remainder = num % 10\n",
    "    reverse_num = reverse_num * 10 + remainder\n",
    "    num = num // 10\n",
    "if original_num == reverse_num:\n",
    "    print(f\"{original_num} is a palindrome.\")\n",
    "else:\n",
    "    print(f\"{original_num} is not a palindrome.\")\n"
   ]
  },
  {
   "cell_type": "markdown",
   "id": "1e5e8359-2247-4726-a330-1838cd1b3c05",
   "metadata": {},
   "source": [
    "### 3. Write a python program finding the factorial of a given number using a while loop. \n"
   ]
  },
  {
   "cell_type": "code",
   "execution_count": 28,
   "id": "9383d046-b209-4474-a56b-400eec32c67b",
   "metadata": {},
   "outputs": [
    {
     "name": "stdin",
     "output_type": "stream",
     "text": [
      "Enter a number: 6\n"
     ]
    },
    {
     "name": "stdout",
     "output_type": "stream",
     "text": [
      "The fact of 6 is 7\n"
     ]
    }
   ],
   "source": [
    "num = int(input('Enter a number:'))\n",
    "i = 1\n",
    "\n",
    "while i <= num:    \n",
    "       fact = i = i + 1\n",
    "print(\"The fact of\", num, \"is\", fact)\n"
   ]
  },
  {
   "cell_type": "markdown",
   "id": "6cb8e402-6cd8-4292-9834-9ab4a4837f36",
   "metadata": {},
   "source": [
    "### 4. Accept numbers using input() function until the user enters 0. If user input 0 then break the while loop and display the sum of all the numbers"
   ]
  },
  {
   "cell_type": "code",
   "execution_count": 44,
   "id": "5caf1c2e-c63e-46ae-9264-ca88890a932e",
   "metadata": {},
   "outputs": [
    {
     "name": "stdin",
     "output_type": "stream",
     "text": [
      "Enter a number (0 to stop):  10\n",
      "Enter a number (0 to stop):  20\n",
      "Enter a number (0 to stop):  5\n",
      "Enter a number (0 to stop):  0\n"
     ]
    },
    {
     "name": "stdout",
     "output_type": "stream",
     "text": [
      "The sum of the numbers is: 0\n"
     ]
    }
   ],
   "source": [
    "num = int(input(\"Enter a number (0 to stop): \"))\n",
    "num = int(input(\"Enter a number (0 to stop): \"))\n",
    "num = int(input(\"Enter a number (0 to stop): \"))\n",
    "num = int(input(\"Enter a number (0 to stop): \"))\n",
    "\n",
    "print(f\"The sum of the numbers is: {num}\")\n"
   ]
  },
  {
   "cell_type": "code",
   "execution_count": null,
   "id": "e06154e2-b005-42cd-a2ba-515876c06bbe",
   "metadata": {},
   "outputs": [],
   "source": []
  }
 ],
 "metadata": {
  "kernelspec": {
   "display_name": "Python 3 (ipykernel)",
   "language": "python",
   "name": "python3"
  },
  "language_info": {
   "codemirror_mode": {
    "name": "ipython",
    "version": 3
   },
   "file_extension": ".py",
   "mimetype": "text/x-python",
   "name": "python",
   "nbconvert_exporter": "python",
   "pygments_lexer": "ipython3",
   "version": "3.10.9"
  }
 },
 "nbformat": 4,
 "nbformat_minor": 5
}
